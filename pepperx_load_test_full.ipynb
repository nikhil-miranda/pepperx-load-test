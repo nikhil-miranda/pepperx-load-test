{
  "nbformat": 4,
  "nbformat_minor": 0,
  "metadata": {
    "colab": {
      "provenance": [],
      "collapsed_sections": [],
      "authorship_tag": "ABX9TyNWDNdTNlENq1rwm0dT4pQt",
      "include_colab_link": true
    },
    "kernelspec": {
      "name": "python3",
      "display_name": "Python 3"
    },
    "language_info": {
      "name": "python"
    }
  },
  "cells": [
    {
      "cell_type": "markdown",
      "metadata": {
        "id": "view-in-github",
        "colab_type": "text"
      },
      "source": [
        "<a href=\"https://colab.research.google.com/github/nikhilmirandaunbxd/pepperx-load-test/blob/main/pepperx_load_test_full.ipynb\" target=\"_parent\"><img src=\"https://colab.research.google.com/assets/colab-badge.svg\" alt=\"Open In Colab\"/></a>"
      ]
    },
    {
      "cell_type": "code",
      "source": [
        "import requests\n",
        "import concurrent\n",
        "import json\n",
        "import time\n",
        "\n",
        "ENV_NAME = \"https://pimqa.unbxd.io\"\n"
      ],
      "metadata": {
        "id": "JlUUpSd3TgPl"
      },
      "execution_count": 143,
      "outputs": []
    },
    {
      "cell_type": "code",
      "execution_count": 144,
      "metadata": {
        "id": "3oWAWM8rYDOA"
      },
      "outputs": [],
      "source": [
        "def post_task_transaction_by_task_id(data):\n",
        "  \n",
        "  url = f\"{ENV_NAME}/pepperx/api/v1/task/transaction\"\n",
        "\n",
        "  payload = json.dumps(data)\n",
        "  headers = {\n",
        "    'accept': 'application/json',\n",
        "    'Content-Type': 'application/json'\n",
        "  }\n",
        "\n",
        "  response = requests.request(\"POST\", url, headers=headers, data=payload)\n"
      ]
    },
    {
      "cell_type": "code",
      "source": [
        "def get_task_transaction_by_task_id(task_id):\n",
        "  \n",
        "  url = f\"{ENV_NAME}/pepperx/api/v1/task/transaction?task_id={task_id}\"\n",
        "\n",
        "  payload={}\n",
        "  headers = {\n",
        "    'accept': 'application/json'\n",
        "  }\n",
        "\n",
        "  response = requests.request(\"GET\", url, headers=headers, data=payload)\n",
        "\n",
        "  return response.json()\n"
      ],
      "metadata": {
        "id": "4W-Y5ljhYS-T"
      },
      "execution_count": 145,
      "outputs": []
    },
    {
      "cell_type": "code",
      "source": [
        "def verify_operation(request_payload):\n",
        "\n",
        "  # print(\"Original Payload =\" + str(request_payload))\n",
        "  \n",
        "  get_data = get_task_transaction_by_task_id(request_payload[\"task_id\"])\n",
        "  \n",
        "  # print(\"Received Payload =\" + str(get_data[\"data\"]))\n",
        "\n",
        "  if sorted((get_data[\"data\"]).items()) == sorted(request_payload.items()):\n",
        "    return True\n",
        "  else: \n",
        "    return False\n"
      ],
      "metadata": {
        "id": "0Bxb76HQUlLz"
      },
      "execution_count": 146,
      "outputs": []
    },
    {
      "cell_type": "code",
      "source": [
        "def modify_request_payload(request_payload, index):\n",
        "  \n",
        "  request_payload[\"status\"] = \"RECEIVED\" if \"COMPLETED\" else \"RECEIVED\"\n",
        "  request_payload[\"content_type\"] = \"content_type\" + \"_\" + str(index)\n",
        "  request_payload[\"result\"] = \"result\" + \"_\" + str(index)\n",
        "  # request_payload[\"date_done\"] = \"date_done\" + \"_\" + str(index)\n",
        "  request_payload[\"task_name\"] = \"task_name\" + \"_\" + str(index)\n",
        "\n",
        "  return request_payload\n"
      ],
      "metadata": {
        "id": "yceshvWqWLhb"
      },
      "execution_count": 147,
      "outputs": []
    },
    {
      "cell_type": "code",
      "source": [
        "def trigger_event(request_payload, index):\n",
        "\n",
        "  start_time = time.time()\n",
        "  # request_payload = modify_request_payload(request_payload, index)\n",
        "\n",
        "  # post_task_transaction_by_task_id(request_payload)\n",
        "\n",
        "  # if index%100 == 0:\n",
        "  #   if verify_operation(request_payload): \n",
        "  #     print(f\"| Time taken: {time.time() - start_time} seconds | Success | Iteration: {index} \")\n",
        "  #   else:\n",
        "  #     print(f\"| Time taken: {time.time() - start_time} seconds | Failed  | Iteration: {index} \")\n",
        "\n",
        "  received_payload = get_task_transaction_by_task_id(task_id)\n",
        "\n",
        "  # print(\"Request Payload =\" + str(request_payload))\n",
        "\n",
        "  # print(\"Received Payload =\" + str(received_payload))\n",
        "\n",
        "\n",
        "  if index%100 == 0:\n",
        "    if (sorted((received_payload[\"data\"]).items()) == sorted(request_payload.items())): \n",
        "      print(f\"| Time taken: {time.time() - start_time} seconds | Success | Iteration: {index} \")\n",
        "    else:\n",
        "      print(f\"| Time taken: {time.time() - start_time} seconds | Failed  | Iteration: {index} \")\n",
        "\n",
        "\n"
      ],
      "metadata": {
        "id": "MwOkPulEcPb-"
      },
      "execution_count": 148,
      "outputs": []
    },
    {
      "cell_type": "code",
      "source": [
        "task_id  = \"529a3f8c2ebf4bff8d8b2f59708e4c40\"\n",
        "\n",
        "request_payload = {\n",
        "    \"task_id\": task_id,\n",
        "    \"status\": \"RECEIVED\",\n",
        "    \"content_type\": \"content_type_999\",\n",
        "    \"content_encoding\": None,\n",
        "    \"result\": \"result_999\",\n",
        "    \"traceback\": None,\n",
        "    \"hidden\": False,\n",
        "    \"meta\": None,\n",
        "    \"task_args\": None,\n",
        "    \"task_kwargs\": None,\n",
        "    \"task_name\": \"task_name_999\"\n",
        "  }\n",
        "\n",
        "# trigger_event(request_payload=request_payload)\n",
        "\n",
        "\n",
        "begin_time = time.time()\n",
        "\n",
        "with concurrent.futures.ThreadPoolExecutor() as executor:\n",
        "    index = 1\n",
        "\n",
        "    while(index<1000):\n",
        "      executor.submit(trigger_event, request_payload, index)\n",
        "      # executor.submit(get_app_by_id, app_custom_id)\n",
        "      index += 1\n",
        "\n",
        "print(f\"Load Test completed {index} API calls in {time.time() - begin_time} seconds \")\n"
      ],
      "metadata": {
        "colab": {
          "base_uri": "https://localhost:8080/"
        },
        "id": "yF8knvNlddFc",
        "outputId": "395a34d0-43e9-44cc-8bde-e2e2ef9341d9"
      },
      "execution_count": 149,
      "outputs": [
        {
          "output_type": "stream",
          "name": "stdout",
          "text": [
            "| Time taken: 0.6304421424865723 seconds | Success | Iteration: 100 \n",
            "| Time taken: 0.6467726230621338 seconds | Success | Iteration: 200 \n",
            "| Time taken: 0.6310389041900635 seconds | Success | Iteration: 300 \n",
            "| Time taken: 0.6272037029266357 seconds | Success | Iteration: 400 \n",
            "| Time taken: 0.6342127323150635 seconds | Success | Iteration: 500 \n",
            "| Time taken: 0.6343672275543213 seconds | Success | Iteration: 600 \n",
            "| Time taken: 0.6260285377502441 seconds | Success | Iteration: 700 \n",
            "| Time taken: 0.6267428398132324 seconds | Success | Iteration: 800 \n",
            "| Time taken: 0.637732982635498 seconds | Success | Iteration: 900 \n",
            "Load Test completed 1000 API calls in 63.60325527191162 seconds \n"
          ]
        }
      ]
    }
  ]
}