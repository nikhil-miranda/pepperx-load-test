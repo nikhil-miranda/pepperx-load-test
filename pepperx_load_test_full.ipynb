{
  "nbformat": 4,
  "nbformat_minor": 0,
  "metadata": {
    "colab": {
      "provenance": [],
      "collapsed_sections": [],
      "authorship_tag": "ABX9TyNdF9XKVVkcxvFLP/AGBClk",
      "include_colab_link": true
    },
    "kernelspec": {
      "name": "python3",
      "display_name": "Python 3"
    },
    "language_info": {
      "name": "python"
    }
  },
  "cells": [
    {
      "cell_type": "markdown",
      "metadata": {
        "id": "view-in-github",
        "colab_type": "text"
      },
      "source": [
        "<a href=\"https://colab.research.google.com/github/nikhilmirandaunbxd/pepperx-load-test/blob/main/pepperx_load_test_full.ipynb\" target=\"_parent\"><img src=\"https://colab.research.google.com/assets/colab-badge.svg\" alt=\"Open In Colab\"/></a>"
      ]
    },
    {
      "cell_type": "code",
      "execution_count": null,
      "metadata": {
        "id": "3oWAWM8rYDOA"
      },
      "outputs": [],
      "source": [
        "def get_task_transaction_by_task_id(task_id):\n",
        "  url = f\"https://pimqa.unbxd.io/pepperx/api/v1/task/transaction?task_id={}\"\n",
        "\n",
        "  payload={}\n",
        "  headers = {\n",
        "    'accept': 'application/json'\n",
        "  }\n",
        "\n",
        "  response = requests.request(\"GET\", url, headers=headers, data=payload)\n",
        "\n",
        "  print(response.text)"
      ]
    },
    {
      "cell_type": "code",
      "source": [
        "def post_task_transaction_by_task_id():\n",
        "  url = \"https://pimqa.unbxd.io/pepperx/api/v1/task/transaction?task_id=529a3f8c2ebf4bff8d8b2f59708e4c40\"\n",
        "\n",
        "  payload={}\n",
        "  headers = {\n",
        "    'accept': 'application/json'\n",
        "  }\n",
        "\n",
        "  response = requests.request(\"GET\", url, headers=headers, data=payload)\n",
        "\n",
        "  print(response.text)"
      ],
      "metadata": {
        "id": "4W-Y5ljhYS-T"
      },
      "execution_count": null,
      "outputs": []
    },
    {
      "cell_type": "code",
      "source": [],
      "metadata": {
        "id": "JCIA_U99YTUP"
      },
      "execution_count": null,
      "outputs": []
    },
    {
      "cell_type": "code",
      "source": [
        "task_id  = \"529a3f8c2ebf4bff8d8b2f59708e4c40\"\n"
      ],
      "metadata": {
        "id": "rc37CNapYTb6"
      },
      "execution_count": null,
      "outputs": []
    }
  ]
}